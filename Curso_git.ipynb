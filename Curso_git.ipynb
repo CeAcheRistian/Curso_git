{
 "cells": [
  {
   "cell_type": "code",
   "execution_count": null,
   "id": "c951c64e-8d0b-4903-8542-9c129f289038",
   "metadata": {},
   "outputs": [],
   "source": []
  }
 ],
 "metadata": {
  "kernelspec": {
   "display_name": "",
   "name": ""
  },
  "language_info": {
   "name": ""
  }
 },
 "nbformat": 4,
 "nbformat_minor": 5
}
