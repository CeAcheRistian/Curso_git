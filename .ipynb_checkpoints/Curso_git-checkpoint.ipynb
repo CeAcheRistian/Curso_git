{
 "cells": [
  {
   "cell_type": "markdown",
   "id": "e26c999e-1ab2-4ee1-8f09-17e4cfb0995e",
   "metadata": {},
   "source": [
    "<strong></strong>\n",
    "<strong>Curso de git</strong>"
   ]
  },
  {
   "cell_type": "markdown",
   "id": "d166ce0e-0b27-4f18-aeef-65a7d4657924",
   "metadata": {},
   "source": [
    "Git es una herramienta de versionado de proyectos o control de versiones.\n",
    "Esto nos permite entender el qué, quién, porqué y cuándo de los cambios realizados en los proyectos.\n",
    "\n",
    "<strong> Ejemplo de ello: </strong>"
   ]
  },
  {
   "cell_type": "markdown",
   "id": "d7301211-67ea-4ae7-9fc9-2fd2082dbe0c",
   "metadata": {},
   "source": [
    "<img src=\"imagenes/Screenshot 2024-10-11 173041.png\">"
   ]
  },
  {
   "cell_type": "markdown",
   "id": "851fc924-24f0-4235-ab61-6e47caae5016",
   "metadata": {},
   "source": [
    "Si existiese un error en algún punto del proyecto es posible revisar quién cometió el error además de cuándo"
   ]
  },
  {
   "cell_type": "markdown",
   "id": "d8551d27-2162-4ec1-bcbe-9cd610decfa2",
   "metadata": {},
   "source": [
    "Para ello se realizan copias del proyecto a cada paso para tener el control del avance del proyecto. Así funciona el versionado del proyecto, también funcionan como copias de seguridad."
   ]
  },
  {
   "cell_type": "markdown",
   "id": "33616dae-6aeb-4da4-9007-0b2caf441975",
   "metadata": {},
   "source": [
    "<img src=\"imagenes/Screenshot 2024-10-11 173954.png\">"
   ]
  },
  {
   "cell_type": "markdown",
   "id": "c3822bcf-d5ce-4fef-85a4-2dffcacbff03",
   "metadata": {},
   "source": [
    "Para que no se vuelva un desmadre el proyecto existen los VCS (Vesion Control System) o Sistemas de control de versiones.\n",
    "Que lo que hacen es almacenar el historial de cambios del proyecto, sin la necesidad de guardar copias permite \"rebobinar\" a versiones anteriores, permiten tener un control sobre las versiones."
   ]
  },
  {
   "cell_type": "markdown",
   "id": "8897525d-bdf7-4169-9ced-d54c3a9519aa",
   "metadata": {},
   "source": [
    "Este historial de versiones se guarda en un <strong>repositorio</strong>. Que es una carpeta que contiene todos los archivos y la base de datos con los cambios hechos. Se puede dar seguimiento a todos los cambios de un proyecto."
   ]
  },
  {
   "cell_type": "code",
   "execution_count": null,
   "id": "f1f56e1c-1c51-4a5c-ac37-399fd571cb4a",
   "metadata": {},
   "outputs": [],
   "source": []
  },
  {
   "cell_type": "markdown",
   "id": "6b0ce7e5-98a1-42a6-bb08-d79a4e7da45e",
   "metadata": {},
   "source": [
    "   <strong> Tipos de Sistemas de control de versiones </strong>"
   ]
  },
  {
   "cell_type": "markdown",
   "id": "61ecd7c3-fee0-4a3b-b303-59a9c91e5c0d",
   "metadata": {},
   "source": [
    "Existen 3 tipos de VSC. <br>\n",
    "El primer es el control de versiones local. Aquí todo se almacena en nuestra computadora y cada nueva versión se le denomina <strong>\"patch\"</strong> y cada patch contiene los cambios realizados en el archivo con respecto a la versión anterior. <br>\n",
    "Si es más seguro, porque todo es local y más rapido para encontrar algún archivo, pero en proyectos grandes no todos pueden estar conectados a una sola computadora, además, si el disco se corrompe, todo el proeycto se muere."
   ]
  },
  {
   "cell_type": "markdown",
   "id": "838cd2df-8650-4c88-b1ec-8b7b7c2ea018",
   "metadata": {},
   "source": [
    "El segundo tipo de versiones se denomina centralizado. <br>\n",
    "En este, todo se almacena en un servidor y los desallorradores tienen independientemente una copia de la versión de todos los archivos.<br> \n",
    "El historial de versiones se almacena en el servidor, y para hacer un cambio en cualquier documento, se deben descargar esos cambios, a esto se le llama hacer un <strong>pull</strong>. <br>\n",
    "Al final los cambios se hace un snapshoot  o foto para mostar el punto donde se encuentran los archivos, a esto se le llama hacer un <strong>commit</strong> y en la computadora de cada desarrollador se encontrará unicamente la versión de trabajo, es decir la  más actual, el historial de cambios del proyecto se encuentra en el servidor. <br>\n",
    "En este tipo de VSC se puede trabajar en equipo pero el historial solo existe en una sola computadora, que es el servidor."
   ]
  },
  {
   "cell_type": "markdown",
   "id": "1b59d16e-5c1a-4264-8ec1-7d754c17db35",
   "metadata": {},
   "source": [
    "El tercer tipo de sistema de control de versiones es el distribuido <br>\n",
    "En este también hay un servidor que almacena el repositorio, además cada miembro del equipo tiene una copia del repositorio, de esta forma se fomenta el trabajo en equipo, disminuye el peligro de almacenar el historial de versiones en una sola computadora y no es necesario tener conección a internet para acceder al historial de versiones. <br>"
   ]
  },
  {
   "cell_type": "code",
   "execution_count": null,
   "id": "d85c8f1f-2bc3-4624-873e-7cd72cbbd8b5",
   "metadata": {},
   "outputs": [],
   "source": []
  },
  {
   "cell_type": "markdown",
   "id": "31710098-304e-4a38-9170-0d72c73b6091",
   "metadata": {},
   "source": [
    "<strong>¿Qué es Git?</strong>"
   ]
  },
  {
   "cell_type": "markdown",
   "id": "59860130-fc48-4001-97c6-b73e28338a2e",
   "metadata": {},
   "source": [
    "Git es un sistema de control distribuido, especializado en proyectos de sotfware. Gratuito, Open Source. <br>\n",
    "Creado en 2005 por Linus Torvalds, creador de Linux. <br>\n",
    "Es el más usado por la comunidades de desarrolladores de software a nivel mundial. Cerca del 96% lo usa <br>"
   ]
  },
  {
   "cell_type": "code",
   "execution_count": null,
   "id": "cc329e71-f52c-4e99-8538-84e329e21395",
   "metadata": {},
   "outputs": [],
   "source": []
  },
  {
   "cell_type": "markdown",
   "id": "9a43c58e-8254-4a9a-b29d-089cda8f2406",
   "metadata": {},
   "source": [
    "<strong>Beneficios de usar Git</strong>"
   ]
  },
  {
   "cell_type": "markdown",
   "id": "1bf4c824-fb78-41a2-8bbd-36f87ada9e7f",
   "metadata": {},
   "source": [
    "Copias de seguridad, facilitar el trabajo en equipo, recuperar versiones anteiores, trabajar offline. <br>\n",
    "Git almacena en cada versión un snapshoot del estado en el que se encuentran todos los archivos, es como tomar una foto general del proyecto para cada versión. <br>\n",
    "Git no almacena tooodos los archivos, sino una referencia a la versión anterior cuando el archivo no fue modificado en esa versión. Es decir, si almacenas en la computadora los archivos que sí utilizaste. <br>\n",
    "Esto permite el uso de ramas o bifurcaciones, es facil, computacionalmente hablando, crearlas, juntarlas, navegar entre ellas, borrarlas. Todo esto también es posible estando offline. <br>\n",
    "Git usa <strong>SHA-1</strong>, codigo alfanumérico de 40 digitos, usado cada que se hace un cambio un el repositorio, basadas en los cambios que hagamos, dotando de <strong>integridad</strong> al control de versiones. Es casi imposible que no se corrompa o pierda información. <br> \n",
    "Todo cambio que se realice queda registrado, siendo muy seguro y facil de navegar entre versiones pasadas. <br>\n",
    "\n"
   ]
  },
  {
   "cell_type": "code",
   "execution_count": null,
   "id": "92251371-2e1b-421d-a3df-a4a154370cfd",
   "metadata": {},
   "outputs": [],
   "source": []
  },
  {
   "cell_type": "markdown",
   "id": "2b4845e4-3b7c-4607-ac10-b7b7132cedf6",
   "metadata": {},
   "source": [
    "<strong> Repositorios </strong>"
   ]
  },
  {
   "cell_type": "markdown",
   "id": "b8a97222-319d-4aa0-af5b-c44446fd49d5",
   "metadata": {},
   "source": [
    "Un repositorio es un espacio de memoria en el que existe el proyecto y su historial de versiones. <br>\n",
    "La diferencia entre un directorio cualquiera y un repositorio, es la carpeta oculta <strong>.git</strong> <br>\n",
    "Dentro de esa carpeta se almacenan todos los cambios, es como una base de datos de las versiones anteriores, esta carpeta se crea automáticamente al crear el repositorio. Git se encarga se crear y manejar estar carpeta. <br>\n",
    "Existen dos tipos de repositorios:\n",
    "<strong>Repositorio local y el respositorio remoto</strong> <br>\n",
    "El local es la versión del repositorio que se almacena en nuestra computadora y el remoto el que está en el servidor. <br>\n",
    "Ambos contienen el mismo repositorio, con la diferencia que el remoto es único. <br>\n"
   ]
  },
  {
   "cell_type": "markdown",
   "id": "2029a079-920c-444b-ac96-7f369d48a526",
   "metadata": {},
   "source": [
    "En el día a día, se maneja el repositorio local, cuando se terminen se hacer los cambios se suben los archivos al repositorio remoto para que todos los miembros del equipo tengan acceso a el. Esta acción se denomina hacer un <strong>push</strong>. Para descargar el repositorio en otro equipo se hace un <strong>pull</strong>, así cada quien tiene su repositorio local para trabajar y un repositorio central remoto para compartir los cambios. Y cada que se hagan cambios en el repositorio local se hace un push, así todos pueden hacer un pull para trabajar sincronizadamente."
   ]
  },
  {
   "cell_type": "code",
   "execution_count": null,
   "id": "cb12366a-f00b-449a-b6ad-e66035d50c64",
   "metadata": {},
   "outputs": [],
   "source": []
  },
  {
   "cell_type": "markdown",
   "id": "32eecaad-daab-4587-8313-9290eab5c2ae",
   "metadata": {},
   "source": [
    "<strong>Áreas de git</strong>"
   ]
  },
  {
   "cell_type": "markdown",
   "id": "49b0de3e-e32e-4b78-a8ed-e287e35287e7",
   "metadata": {},
   "source": [
    "Las áreas de git permiten organizar los cambios en 3 etapas en las que se encuentra o puede encontrar el código. <br>\n",
    "<strong>Área de trabajo:</strong> En esta área se encuentra el código que se está modificando, en este punto, git no está haciendo ningún seguimiento a los cambios, esto implica que el código se puede perder facilmente, ya que no es parte del repositorio. <br>\n",
    "<strong>Área de staging:</strong> Una vez que los terminemos el código y desemos que sea parte del repositorio, los pasamos al área de staging, esta área guarda los cambios, sin hacerlos oficialmente parte del historial de versiones, es como una espécie de caché que almacena de forma temporal los cambios que no queremos que se pierdan y que van a formar parte de la próxima versión del repositorio. <br>\n",
    "<strong>Área de repositorio:</strong> Son los cambios que son parte del historial de versiones. Esta área almacena paquetes de cambios a modo de fotos o snapshoots en cierto momento del tiempo. Y a cada una de estas \"fotos\" se le llama commit y la secuencia de estos commits es el historial de versiones. <br>"
   ]
  },
  {
   "cell_type": "markdown",
   "id": "23cd866b-25a3-416b-8d14-6323215a29cb",
   "metadata": {},
   "source": [
    "<img src=\"imagenes/Screenshot 2024-10-11 192940.png\">"
   ]
  },
  {
   "cell_type": "code",
   "execution_count": null,
   "id": "f7a2937f-f775-4ff9-991f-cd6f8b70dad4",
   "metadata": {},
   "outputs": [],
   "source": []
  },
  {
   "cell_type": "markdown",
   "id": "2e2da44e-7163-4cb1-8c34-b6e38a579685",
   "metadata": {},
   "source": [
    "<strong>Git y Github</strong>"
   ]
  },
  {
   "cell_type": "markdown",
   "id": "3f0731a2-9555-45da-84ff-bd4410242ddb",
   "metadata": {},
   "source": [
    "Github es una herramiento que nos permite almacenar, en la nube, nuestros repositorios remotos y gestionar nuestros proyectos de principio a fin. <br>\n",
    "También ayuda al trabajo colaborativo, integración y despliegue de proyectos, editor en la nube, automatizaciones, ... <br>\n",
    "<img src=\"imagenes/Screenshot 2024-10-11 193658.png\"> <br> <br>\n",
    "Github fungiría como el repositorio remoto. <br>\n",
    "Github no es el único que funge como servidor y controlador de versiones, existen Bitbucket y GitLab"
   ]
  },
  {
   "cell_type": "code",
   "execution_count": null,
   "id": "d7fb806d-c4bc-491c-a6d5-93d17c23cbe4",
   "metadata": {},
   "outputs": [],
   "source": []
  },
  {
   "cell_type": "markdown",
   "id": "d9abbbde-8a4f-4f65-8206-106ed2c7b734",
   "metadata": {},
   "source": [
    "<strong>Instalación de git</strong>"
   ]
  },
  {
   "cell_type": "markdown",
   "id": "c386254e-0ab7-4164-a9c6-f240334a3a1c",
   "metadata": {},
   "source": [
    "Primero verificamos si ya tenemos git instalado ..."
   ]
  },
  {
   "cell_type": "markdown",
   "id": "de3ac46a-8766-4138-90e0-0413ffb78a9e",
   "metadata": {},
   "source": [
    "<strong>git --version"
   ]
  },
  {
   "cell_type": "markdown",
   "id": "d3fc5b6a-8e3b-435e-a2f3-98606917468d",
   "metadata": {},
   "source": [
    "Para instalarlo en ubuntu ..."
   ]
  },
  {
   "cell_type": "markdown",
   "id": "39d844b0-f651-42c9-af62-2e85dd47d93b",
   "metadata": {},
   "source": [
    "<strong>sudo apt-get install git-all</strong>"
   ]
  },
  {
   "cell_type": "markdown",
   "id": "96310fac-38f0-433c-a970-1fd48742c442",
   "metadata": {},
   "source": [
    "Para windows, vamos al navegador y buscamos git for windows, se descarga e instala."
   ]
  },
  {
   "cell_type": "code",
   "execution_count": null,
   "id": "fb87491b-c65f-44b9-a4a6-79056659a328",
   "metadata": {},
   "outputs": [],
   "source": []
  },
  {
   "cell_type": "markdown",
   "id": "eba5daa3-35ac-4fe8-a772-59b1de62e9c0",
   "metadata": {},
   "source": [
    "<strong>Configuración Inicial</strong>"
   ]
  },
  {
   "cell_type": "markdown",
   "id": "3926e786-3d0d-4cf8-acf8-94ef62dcfbbb",
   "metadata": {},
   "source": [
    "Para usar git se requiere un usuario y correo electrónico, para que git identifique los cambios que haces tú. <br>\n",
    "Para hacr la condiguración de las credenciales de Git ..."
   ]
  },
  {
   "cell_type": "markdown",
   "id": "66afd8b9-65db-4e75-860f-00fa7d4927f6",
   "metadata": {},
   "source": [
    "<strong>git config --global user.name \"nombre\"</strong> <br>\n",
    "<strong>git config --global user.email \"correo@electronico.com\"</strong>"
   ]
  },
  {
   "cell_type": "markdown",
   "id": "d00c3dfb-79a9-4606-ac40-9939fea27993",
   "metadata": {},
   "source": [
    "La \"bandera\" --global le indica a git que esta será la configuración por defecto de todos los repositorios que se cree. <br>\n",
    "Si se tienen otros proyectos con otras credenciales, no se usaría esta bandera. <br>\n",
    "Es como los entornos virtuales. Cada entorno es diferente así como los repositorios, se pueden tener muchos en una sola computadora, pero cada repositorio puede tener credeciales diferentes. <br>\n"
   ]
  },
  {
   "cell_type": "markdown",
   "id": "be10dd98-6ece-41ac-8fb6-05e150cf2ed8",
   "metadata": {},
   "source": [
    "Para verificar que todo haya quedado en orden ..."
   ]
  },
  {
   "cell_type": "markdown",
   "id": "65eaa087-e042-4919-b787-ef7bf87549f4",
   "metadata": {},
   "source": [
    "<strong>git config --list</strong> <br>\n",
    "o individualmente por dato con ... <br>\n",
    "<strong>git config user.name</strong>"
   ]
  },
  {
   "cell_type": "code",
   "execution_count": null,
   "id": "2c88fdb5-c1e9-4cca-b07a-f76017291c9f",
   "metadata": {},
   "outputs": [],
   "source": []
  },
  {
   "cell_type": "markdown",
   "id": "5239ed7c-8f62-42a1-bb73-51215e81f635",
   "metadata": {},
   "source": [
    "<strong>Configuración de la Llave SSH</strong>"
   ]
  },
  {
   "cell_type": "markdown",
   "id": "4defa27f-ce6c-43c5-9d00-75cbb4364e7a",
   "metadata": {},
   "source": [
    "Para parear git con github, usamos una <strong>llave SSH</strong>, llave secreta compartida entre nuetra computadora y GitHub que nos permite conectase a través del protocolo SSH <br>\n",
    "Esta llave es delicada no se registra en cualquier lado. <br>\n",
    "Para configurar la llave ...<strong></strong>"
   ]
  },
  {
   "cell_type": "markdown",
   "id": "c31db061-8c4e-4c91-ac61-9d8ed0506873",
   "metadata": {},
   "source": [
    "<strong>ssh-keygen -t ed25519 -C \"correo@electronico.com\"</strong>"
   ]
  },
  {
   "cell_type": "markdown",
   "id": "3b65ecb2-e4b8-4a13-9505-137b3ee95cca",
   "metadata": {},
   "source": [
    "Generamos una llave con el algoritmo ed25519 <br>\n",
    "Git pregunta donde se almacenará la llave, da una ruta por defecto. <br>\n",
    "Git pide un <strong>passphrase</strong> que es una clave como una capa extra de seguridad a la conección SSH. <br>\n",
    "por defecto no tiene. <br>\n",
    "Una vez creada la llave, debemos indicar que la queremos utilizar. Inicializamos el gestionador de ssh ..."
   ]
  },
  {
   "cell_type": "markdown",
   "id": "2766d13c-9632-4c04-89b4-cc7fcaf411ec",
   "metadata": {},
   "source": [
    "<strong>eval \"$(ssh-agent -s)\"</strong>"
   ]
  },
  {
   "cell_type": "markdown",
   "id": "9e153d29-d15c-428e-af6d-0738d476fa81",
   "metadata": {},
   "source": [
    "Una vez inicializado, agregamos a este agente la llave recién creada.<strong></strong>"
   ]
  },
  {
   "cell_type": "markdown",
   "id": "b4c12bed-cb2c-4893-a574-68b6e8b37a5f",
   "metadata": {},
   "source": [
    "<strong>ssh-add ~/.ssh/id_ed25519</strong> <br>\n",
    "Se le indica la ruta, por defecto es esta."
   ]
  },
  {
   "cell_type": "markdown",
   "id": "c8379324-2000-4acf-a3bd-f6f414fbf5f8",
   "metadata": {},
   "source": [
    "Por último conectamos la llave ssh con la cuenta de github. <br>\n",
    "Se copia la llave con los comandos ..."
   ]
  },
  {
   "cell_type": "markdown",
   "id": "87d425cc-bb3d-4fff-9e6c-16c76d8530e9",
   "metadata": {},
   "source": [
    "windows: <strong>clip < ~/.ssh/id_ed25519.pub</strong> <br>\n",
    "linux: <strong>cat ~/.ssh/id_ed25519.pub</strong>  \"Se abre y copiamos el codigo que nos de\""
   ]
  },
  {
   "cell_type": "markdown",
   "id": "1a7ea3ba-28bc-44ec-8622-c166089e5e18",
   "metadata": {},
   "source": [
    "Dentro de la plataforma Github -> Settings -> SSH keys -> New SSH key <br>\n",
    "Y en el recuadro de Key, pegamos la llave y le damos un nombre para identificarlo. <br>\n",
    "Para verificar que la conección es exitosa ..."
   ]
  },
  {
   "cell_type": "markdown",
   "id": "ae3e5329-ae4a-4f13-9eed-09203f446e2e",
   "metadata": {},
   "source": [
    "<strong>ssh -T git@github.com</strong> <br>\n",
    "Esto imprime un saludo de bienvenido con el nombre de usuario"
   ]
  },
  {
   "cell_type": "code",
   "execution_count": null,
   "id": "fc818dac-c5b1-4047-aa75-b2dd85d044c1",
   "metadata": {},
   "outputs": [],
   "source": []
  },
  {
   "cell_type": "markdown",
   "id": "f8dfcee6-54ac-439d-97b4-97038d261130",
   "metadata": {},
   "source": [
    "<strong>Creando un Nuevo Repositorio (init)</strong>"
   ]
  },
  {
   "cell_type": "markdown",
   "id": "de800a71-2b36-4136-99c6-64f266b83736",
   "metadata": {},
   "source": [
    "Para inicializar un repositorio se usa el comando: <br>\n",
    "<strong>git init</strong><br>\n",
    "Este comando genera un directorio llamado .git que incluye la configuración e historia. <br>\n",
    "Antes de correr el comando, se debe crear la carpeta del proyecto y dentro de esta carpeta corremos el comando. <br>\n"
   ]
  },
  {
   "cell_type": "code",
   "execution_count": null,
   "id": "250bb434-d355-422a-8aee-5d3fb1607fd4",
   "metadata": {},
   "outputs": [],
   "source": []
  },
  {
   "cell_type": "markdown",
   "id": "ecc5476d-775f-400f-b194-5047bc0ee18c",
   "metadata": {},
   "source": [
    "<strong>Agregar Cambios (add)"
   ]
  },
  {
   "cell_type": "markdown",
   "id": "dfdb237a-94b7-4511-98ae-8b718dc4fc38",
   "metadata": {},
   "source": [
    "Una de las funcionalidades de git es nover el código entre las ramas del repositorio. <br>\n",
    "El comando <strong>git add</strong> nos ayuda a mover los cambios entre el área de trabajo y el área de staging. Con esto preparamos los cambios para que hagan parte del siguiente commit. Se le debe especificar a git que cambios son los que queremos mover. <br>\n",
    "<br>\n",
    "Por ejemplo, para agregar un archivo es específico: <br>\n",
    "<strong>git add index.html</strong><br>\n",
    "Todos los cambios con una terminación específica:<br>\n",
    "<strong>git add *.js</strong><br>\n",
    "Para agregar cambios de archivos que sigan un patrón:<br>\n",
    "<strong>git add src/component-*</strong><br>\n",
    "Si nos encontramos en un subdirectorio y queremos agregar todos los cambios:<br>\n",
    "<strong>git add .</strong><br>\n",
    "Para todos los cambios en general de todo el repositorio: <br>\n",
    "<strong>git add -A</strong><br>\n",
    "Agrega todos los cambios sean modificaciones o eliminaciones excepto los archivos recién creados:<br>\n",
    "<strong>git add -u</strong><br>\n",
    "La operación inversa de add, movemos del área de stating al área de trabajo los cambios:<br>\n",
    "<strong>git reset</strong>\n"
   ]
  },
  {
   "cell_type": "markdown",
   "id": "87e65d3f-742c-4021-ba38-ede9192f9eb7",
   "metadata": {},
   "source": [
    "Con <strong>git status</strong> vemos en qué rama nos encontramos, si hay commits o archivos sin agregar al repositorio o si existe algún problema."
   ]
  },
  {
   "cell_type": "code",
   "execution_count": null,
   "id": "86165f26-a7fb-478f-8ceb-329c94f2ad00",
   "metadata": {},
   "outputs": [],
   "source": []
  },
  {
   "cell_type": "markdown",
   "id": "2f5b6ec6-a137-4829-ac97-d67d1028d7ed",
   "metadata": {},
   "source": [
    "<strong>Guardar Cambios (commit)"
   ]
  },
  {
   "cell_type": "markdown",
   "id": "480f73da-2ba7-4c8b-b09a-d3bb134684bb",
   "metadata": {},
   "source": [
    "Un vez más. El historial de cambios de un repositorio se compone de commit, cada commit tiene un apuntador a un snapshoot del estado en el cual se encuentra el código en cierto punto del tiempo. Se puede ver, navegar o restaurar a cualquier punto de la historia.<br>\n",
    "Cada commit viene con información extra, quién hace el commit, cuando y una descripción de los cambios que contiene este commit.<br>\n",
    "Con el comando <strong>git commit</strong> movemos todos los cambios del área de staging al área del repositorio y crea una nueva \"foto\" del código con estos cambios.<br>\n",
    "Si mandamos el comando tal cual, nos abrirá un editor de código donde colocaremos la descripción de los cambios <br>\n",
    "Para verificar el área de repositorio usamos el comando <strong>git log</strong>. Con este comando se lista los commits del proyecto, con toda la información relevante. Autor, fecha y descripción.<br>\n",
    "Para facilitarnos la vida con el commit se usa el comando:<br>\n",
    "<strong>git commit -m \"descripción\"</strong><br>\n",
    "<br>\n",
    "Los commits deben ser pequeños y frecuentes. Cada commit debe tener una serie de cambios significativos"
   ]
  },
  {
   "cell_type": "markdown",
   "id": "051192e9-74ef-405d-9e06-73c0017a9560",
   "metadata": {},
   "source": []
  },
  {
   "cell_type": "markdown",
   "id": "9bb67975-9a33-441e-a830-09337af5fed4",
   "metadata": {},
   "source": []
  },
  {
   "cell_type": "markdown",
   "id": "8c12298f-31cf-41d7-9d14-e46bea7adea0",
   "metadata": {},
   "source": []
  },
  {
   "cell_type": "markdown",
   "id": "0cf35046-f8bc-4652-b661-afac99e3386d",
   "metadata": {},
   "source": []
  },
  {
   "cell_type": "markdown",
   "id": "cd02b858-4439-4858-a567-207c806e3281",
   "metadata": {},
   "source": []
  },
  {
   "cell_type": "markdown",
   "id": "0012b21c-c1e1-47da-8a40-cfbb5436accd",
   "metadata": {},
   "source": []
  }
 ],
 "metadata": {
  "kernelspec": {
   "display_name": "Python 3 (ipykernel)",
   "language": "python",
   "name": "python3"
  },
  "language_info": {
   "codemirror_mode": {
    "name": "ipython",
    "version": 3
   },
   "file_extension": ".py",
   "mimetype": "text/x-python",
   "name": "python",
   "nbconvert_exporter": "python",
   "pygments_lexer": "ipython3",
   "version": "3.10.12"
  }
 },
 "nbformat": 4,
 "nbformat_minor": 5
}
