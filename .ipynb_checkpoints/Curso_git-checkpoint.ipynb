{
 "cells": [
  {
   "cell_type": "markdown",
   "id": "e26c999e-1ab2-4ee1-8f09-17e4cfb0995e",
   "metadata": {},
   "source": [
    "<h1><strong>Curso de git</strong>"
   ]
  },
  {
   "cell_type": "markdown",
   "id": "d166ce0e-0b27-4f18-aeef-65a7d4657924",
   "metadata": {},
   "source": [
    "Git es una herramienta de versionado de proyectos o control de versiones.\n",
    "Esto nos permite entender el qué, quién, porqué y cuándo de los cambios realizados en los proyectos.\n",
    "\n",
    "<strong> Ejemplo de ello: </strong>"
   ]
  },
  {
   "cell_type": "markdown",
   "id": "d7301211-67ea-4ae7-9fc9-2fd2082dbe0c",
   "metadata": {},
   "source": [
    "<img src=\"imagenes/Screenshot 2024-10-11 173041.png\">"
   ]
  },
  {
   "cell_type": "markdown",
   "id": "851fc924-24f0-4235-ab61-6e47caae5016",
   "metadata": {},
   "source": [
    "Si existiese un error en algún punto del proyecto es posible revisar quién cometió el error además de cuándo"
   ]
  },
  {
   "cell_type": "markdown",
   "id": "d8551d27-2162-4ec1-bcbe-9cd610decfa2",
   "metadata": {},
   "source": [
    "Para ello se realizan copias del proyecto a cada paso para tener el control del avance del proyecto. Así funciona el versionado del proyecto, también funcionan como copias de seguridad."
   ]
  },
  {
   "cell_type": "markdown",
   "id": "33616dae-6aeb-4da4-9007-0b2caf441975",
   "metadata": {},
   "source": [
    "<img src=\"imagenes/Screenshot 2024-10-11 173954.png\">"
   ]
  },
  {
   "cell_type": "markdown",
   "id": "c3822bcf-d5ce-4fef-85a4-2dffcacbff03",
   "metadata": {},
   "source": [
    "Para que no se vuelva un desmadre el proyecto existen los VCS (Vesion Control System) o Sistemas de control de versiones.\n",
    "Que lo que hacen es almacenar el historial de cambios del proyecto, sin la necesidad de guardar copias permite \"rebobinar\" a versiones anteriores, permiten tener un control sobre las versiones."
   ]
  },
  {
   "cell_type": "markdown",
   "id": "8897525d-bdf7-4169-9ced-d54c3a9519aa",
   "metadata": {},
   "source": [
    "Este historial de versiones se guarda en un <strong>repositorio</strong>. Que es una carpeta que contiene todos los archivos y la base de datos con los cambios hechos. Se puede dar seguimiento a todos los cambios de un proyecto."
   ]
  },
  {
   "cell_type": "code",
   "execution_count": null,
   "id": "f1f56e1c-1c51-4a5c-ac37-399fd571cb4a",
   "metadata": {},
   "outputs": [],
   "source": []
  },
  {
   "cell_type": "markdown",
   "id": "6b0ce7e5-98a1-42a6-bb08-d79a4e7da45e",
   "metadata": {},
   "source": [
    "<h2><strong> Tipos de Sistemas de control de versiones </strong>"
   ]
  },
  {
   "cell_type": "markdown",
   "id": "61ecd7c3-fee0-4a3b-b303-59a9c91e5c0d",
   "metadata": {},
   "source": [
    "Existen 3 tipos de VSC. <br>\n",
    "El primer es el control de versiones local. Aquí todo se almacena en nuestra computadora y cada nueva versión se le denomina <strong>\"patch\"</strong> y cada patch contiene los cambios realizados en el archivo con respecto a la versión anterior. <br>\n",
    "Si es más seguro, porque todo es local y más rapido para encontrar algún archivo, pero en proyectos grandes no todos pueden estar conectados a una sola computadora, además, si el disco se corrompe, todo el proeycto se muere."
   ]
  },
  {
   "cell_type": "markdown",
   "id": "838cd2df-8650-4c88-b1ec-8b7b7c2ea018",
   "metadata": {},
   "source": [
    "El segundo tipo de versiones se denomina centralizado. <br>\n",
    "En este, todo se almacena en un servidor y los desallorradores tienen independientemente una copia de la versión de todos los archivos.<br> \n",
    "El historial de versiones se almacena en el servidor, y para hacer un cambio en cualquier documento, se deben descargar esos cambios, a esto se le llama hacer un <strong>pull</strong>. <br>\n",
    "Al final los cambios se hace un snapshoot  o foto para mostar el punto donde se encuentran los archivos, a esto se le llama hacer un <strong>commit</strong> y en la computadora de cada desarrollador se encontrará unicamente la versión de trabajo, es decir la  más actual, el historial de cambios del proyecto se encuentra en el servidor. <br>\n",
    "En este tipo de VSC se puede trabajar en equipo pero el historial solo existe en una sola computadora, que es el servidor."
   ]
  },
  {
   "cell_type": "markdown",
   "id": "1b59d16e-5c1a-4264-8ec1-7d754c17db35",
   "metadata": {},
   "source": [
    "El tercer tipo de sistema de control de versiones es el distribuido <br>\n",
    "En este también hay un servidor que almacena el repositorio, además cada miembro del equipo tiene una copia del repositorio, de esta forma se fomenta el trabajo en equipo, disminuye el peligro de almacenar el historial de versiones en una sola computadora y no es necesario tener conección a internet para acceder al historial de versiones. <br>"
   ]
  },
  {
   "cell_type": "code",
   "execution_count": null,
   "id": "d85c8f1f-2bc3-4624-873e-7cd72cbbd8b5",
   "metadata": {},
   "outputs": [],
   "source": []
  },
  {
   "cell_type": "markdown",
   "id": "31710098-304e-4a38-9170-0d72c73b6091",
   "metadata": {},
   "source": [
    "<h2><strong>¿Qué es Git?</strong>"
   ]
  },
  {
   "cell_type": "markdown",
   "id": "59860130-fc48-4001-97c6-b73e28338a2e",
   "metadata": {},
   "source": [
    "Git es un sistema de control distribuido, especializado en proyectos de sotfware. Gratuito, Open Source. <br>\n",
    "Creado en 2005 por Linus Torvalds, creador de Linux. <br>\n",
    "Es el más usado por la comunidades de desarrolladores de software a nivel mundial. Cerca del 96% lo usa <br>"
   ]
  },
  {
   "cell_type": "code",
   "execution_count": null,
   "id": "cc329e71-f52c-4e99-8538-84e329e21395",
   "metadata": {},
   "outputs": [],
   "source": []
  },
  {
   "cell_type": "markdown",
   "id": "9a43c58e-8254-4a9a-b29d-089cda8f2406",
   "metadata": {},
   "source": [
    "<h2><strong>Beneficios de usar Git</strong>"
   ]
  },
  {
   "cell_type": "markdown",
   "id": "1bf4c824-fb78-41a2-8bbd-36f87ada9e7f",
   "metadata": {},
   "source": [
    "Copias de seguridad, facilitar el trabajo en equipo, recuperar versiones anteiores, trabajar offline. <br>\n",
    "Git almacena en cada versión un snapshoot del estado en el que se encuentran todos los archivos, es como tomar una foto general del proyecto para cada versión. <br>\n",
    "Git no almacena tooodos los archivos, sino una referencia a la versión anterior cuando el archivo no fue modificado en esa versión. Es decir, si almacenas en la computadora los archivos que sí utilizaste. <br>\n",
    "Esto permite el uso de ramas o bifurcaciones, es facil, computacionalmente hablando, crearlas, juntarlas, navegar entre ellas, borrarlas. Todo esto también es posible estando offline. <br>\n",
    "Git usa <strong>SHA-1</strong>, codigo alfanumérico de 40 digitos, usado cada que se hace un cambio un el repositorio, basadas en los cambios que hagamos, dotando de <strong>integridad</strong> al control de versiones. Es casi imposible que no se corrompa o pierda información. <br> \n",
    "Todo cambio que se realice queda registrado, siendo muy seguro y facil de navegar entre versiones pasadas. <br>\n",
    "\n"
   ]
  },
  {
   "cell_type": "code",
   "execution_count": null,
   "id": "92251371-2e1b-421d-a3df-a4a154370cfd",
   "metadata": {},
   "outputs": [],
   "source": []
  },
  {
   "cell_type": "markdown",
   "id": "2b4845e4-3b7c-4607-ac10-b7b7132cedf6",
   "metadata": {},
   "source": [
    "<h2><strong> Repositorios </strong>"
   ]
  },
  {
   "cell_type": "markdown",
   "id": "b8a97222-319d-4aa0-af5b-c44446fd49d5",
   "metadata": {},
   "source": [
    "Un repositorio es un espacio de memoria en el que existe el proyecto y su historial de versiones. <br>\n",
    "La diferencia entre un directorio cualquiera y un repositorio, es la carpeta oculta <strong>.git</strong> <br>\n",
    "Dentro de esa carpeta se almacenan todos los cambios, es como una base de datos de las versiones anteriores, esta carpeta se crea automáticamente al crear el repositorio. Git se encarga se crear y manejar estar carpeta. <br>\n",
    "Existen dos tipos de repositorios:\n",
    "<strong>Repositorio local y el respositorio remoto</strong> <br>\n",
    "El local es la versión del repositorio que se almacena en nuestra computadora y el remoto el que está en el servidor. <br>\n",
    "Ambos contienen el mismo repositorio, con la diferencia que el remoto es único. <br>\n"
   ]
  },
  {
   "cell_type": "markdown",
   "id": "2029a079-920c-444b-ac96-7f369d48a526",
   "metadata": {},
   "source": [
    "En el día a día, se maneja el repositorio local, cuando se terminen se hacer los cambios se suben los archivos al repositorio remoto para que todos los miembros del equipo tengan acceso a el. Esta acción se denomina hacer un <strong>push</strong>. Para descargar el repositorio en otro equipo se hace un <strong>pull</strong>, así cada quien tiene su repositorio local para trabajar y un repositorio central remoto para compartir los cambios. Y cada que se hagan cambios en el repositorio local se hace un push, así todos pueden hacer un pull para trabajar sincronizadamente."
   ]
  },
  {
   "cell_type": "code",
   "execution_count": null,
   "id": "cb12366a-f00b-449a-b6ad-e66035d50c64",
   "metadata": {},
   "outputs": [],
   "source": []
  },
  {
   "cell_type": "markdown",
   "id": "32eecaad-daab-4587-8313-9290eab5c2ae",
   "metadata": {},
   "source": [
    "<h2><strong>Áreas de git</strong>"
   ]
  },
  {
   "cell_type": "markdown",
   "id": "49b0de3e-e32e-4b78-a8ed-e287e35287e7",
   "metadata": {},
   "source": [
    "Las áreas de git permiten organizar los cambios en 3 etapas en las que se encuentra o puede encontrar el código. <br>\n",
    "<strong>Área de trabajo:</strong> En esta área se encuentra el código que se está modificando, en este punto, git no está haciendo ningún seguimiento a los cambios, esto implica que el código se puede perder facilmente, ya que no es parte del repositorio. <br>\n",
    "<strong>Área de staging:</strong> Una vez que los terminemos el código y desemos que sea parte del repositorio, los pasamos al área de staging, esta área guarda los cambios, sin hacerlos oficialmente parte del historial de versiones, es como una espécie de caché que almacena de forma temporal los cambios que no queremos que se pierdan y que van a formar parte de la próxima versión del repositorio. <br>\n",
    "<strong>Área de repositorio:</strong> Son los cambios que son parte del historial de versiones. Esta área almacena paquetes de cambios a modo de fotos o snapshoots en cierto momento del tiempo. Y a cada una de estas \"fotos\" se le llama commit y la secuencia de estos commits es el historial de versiones. <br>"
   ]
  },
  {
   "cell_type": "markdown",
   "id": "23cd866b-25a3-416b-8d14-6323215a29cb",
   "metadata": {},
   "source": [
    "<img src=\"imagenes/Screenshot 2024-10-11 192940.png\">"
   ]
  },
  {
   "cell_type": "code",
   "execution_count": null,
   "id": "f7a2937f-f775-4ff9-991f-cd6f8b70dad4",
   "metadata": {},
   "outputs": [],
   "source": []
  },
  {
   "cell_type": "markdown",
   "id": "2e2da44e-7163-4cb1-8c34-b6e38a579685",
   "metadata": {},
   "source": [
    "<h2><strong>Git y Github</strong>"
   ]
  },
  {
   "cell_type": "markdown",
   "id": "3f0731a2-9555-45da-84ff-bd4410242ddb",
   "metadata": {},
   "source": [
    "Github es una herramiento que nos permite almacenar, en la nube, nuestros repositorios remotos y gestionar nuestros proyectos de principio a fin. <br>\n",
    "También ayuda al trabajo colaborativo, integración y despliegue de proyectos, editor en la nube, automatizaciones, ... <br>\n",
    "<img src=\"imagenes/Screenshot 2024-10-11 193658.png\"> <br> <br>\n",
    "Github fungiría como el repositorio remoto. <br>\n",
    "Github no es el único que funge como servidor y controlador de versiones, existen Bitbucket y GitLab"
   ]
  },
  {
   "cell_type": "code",
   "execution_count": null,
   "id": "d7fb806d-c4bc-491c-a6d5-93d17c23cbe4",
   "metadata": {},
   "outputs": [],
   "source": []
  },
  {
   "cell_type": "markdown",
   "id": "d9abbbde-8a4f-4f65-8206-106ed2c7b734",
   "metadata": {},
   "source": [
    "<h2><strong>Instalación de git</strong>"
   ]
  },
  {
   "cell_type": "markdown",
   "id": "c386254e-0ab7-4164-a9c6-f240334a3a1c",
   "metadata": {},
   "source": [
    "Primero verificamos si ya tenemos git instalado ..."
   ]
  },
  {
   "cell_type": "markdown",
   "id": "de3ac46a-8766-4138-90e0-0413ffb78a9e",
   "metadata": {},
   "source": [
    "<strong>git --version"
   ]
  },
  {
   "cell_type": "markdown",
   "id": "d3fc5b6a-8e3b-435e-a2f3-98606917468d",
   "metadata": {},
   "source": [
    "Para instalarlo en ubuntu ..."
   ]
  },
  {
   "cell_type": "markdown",
   "id": "39d844b0-f651-42c9-af62-2e85dd47d93b",
   "metadata": {},
   "source": [
    "<strong>sudo apt-get install git-all</strong>"
   ]
  },
  {
   "cell_type": "markdown",
   "id": "96310fac-38f0-433c-a970-1fd48742c442",
   "metadata": {},
   "source": [
    "Para windows, vamos al navegador y buscamos git for windows, se descarga e instala."
   ]
  },
  {
   "cell_type": "code",
   "execution_count": null,
   "id": "fb87491b-c65f-44b9-a4a6-79056659a328",
   "metadata": {},
   "outputs": [],
   "source": []
  },
  {
   "cell_type": "markdown",
   "id": "eba5daa3-35ac-4fe8-a772-59b1de62e9c0",
   "metadata": {},
   "source": [
    "<h2><strong>Configuración Inicial</strong>"
   ]
  },
  {
   "cell_type": "markdown",
   "id": "3926e786-3d0d-4cf8-acf8-94ef62dcfbbb",
   "metadata": {},
   "source": [
    "Para usar git se requiere un usuario y correo electrónico, para que git identifique los cambios que haces tú. <br>\n",
    "Para hacr la condiguración de las credenciales de Git ..."
   ]
  },
  {
   "cell_type": "markdown",
   "id": "66afd8b9-65db-4e75-860f-00fa7d4927f6",
   "metadata": {},
   "source": [
    "<strong>git config --global user.name \"nombre\"</strong> <br>\n",
    "<strong>git config --global user.email \"correo@electronico.com\"</strong>"
   ]
  },
  {
   "cell_type": "markdown",
   "id": "d00c3dfb-79a9-4606-ac40-9939fea27993",
   "metadata": {},
   "source": [
    "La \"bandera\" --global le indica a git que esta será la configuración por defecto de todos los repositorios que se cree. <br>\n",
    "Si se tienen otros proyectos con otras credenciales, no se usaría esta bandera. <br>\n",
    "Es como los entornos virtuales. Cada entorno es diferente así como los repositorios, se pueden tener muchos en una sola computadora, pero cada repositorio puede tener credeciales diferentes. <br>\n"
   ]
  },
  {
   "cell_type": "markdown",
   "id": "be10dd98-6ece-41ac-8fb6-05e150cf2ed8",
   "metadata": {},
   "source": [
    "Para verificar que todo haya quedado en orden ..."
   ]
  },
  {
   "cell_type": "markdown",
   "id": "65eaa087-e042-4919-b787-ef7bf87549f4",
   "metadata": {},
   "source": [
    "<strong>git config --list</strong> <br>\n",
    "o individualmente por dato con ... <br>\n",
    "<strong>git config user.name</strong>"
   ]
  },
  {
   "cell_type": "code",
   "execution_count": null,
   "id": "2c88fdb5-c1e9-4cca-b07a-f76017291c9f",
   "metadata": {},
   "outputs": [],
   "source": []
  },
  {
   "cell_type": "markdown",
   "id": "5239ed7c-8f62-42a1-bb73-51215e81f635",
   "metadata": {},
   "source": [
    "<h2><strong>Configuración de la Llave SSH</strong>"
   ]
  },
  {
   "cell_type": "markdown",
   "id": "4defa27f-ce6c-43c5-9d00-75cbb4364e7a",
   "metadata": {},
   "source": [
    "Para parear git con github, usamos una <strong>llave SSH</strong>, llave secreta compartida entre nuetra computadora y GitHub que nos permite conectase a través del protocolo SSH <br>\n",
    "Esta llave es delicada no se registra en cualquier lado. <br>\n",
    "Para configurar la llave ...<strong></strong>"
   ]
  },
  {
   "cell_type": "markdown",
   "id": "c31db061-8c4e-4c91-ac61-9d8ed0506873",
   "metadata": {},
   "source": [
    "<strong>ssh-keygen -t ed25519 -C \"correo@electronico.com\""
   ]
  },
  {
   "cell_type": "markdown",
   "id": "3b65ecb2-e4b8-4a13-9505-137b3ee95cca",
   "metadata": {},
   "source": [
    "Generamos una llave con el algoritmo ed25519 <br>\n",
    "Git pregunta donde se almacenará la llave, da una ruta por defecto. <br>\n",
    "Git pide un <strong>passphrase</strong> que es una clave como una capa extra de seguridad a la conección SSH. <br>\n",
    "por defecto no tiene. <br>\n",
    "Una vez creada la llave, debemos indicar que la queremos utilizar. Inicializamos el gestionador de ssh ..."
   ]
  },
  {
   "cell_type": "markdown",
   "id": "2766d13c-9632-4c04-89b4-cc7fcaf411ec",
   "metadata": {},
   "source": [
    "<strong>eval \"$(ssh-agent -s)\""
   ]
  },
  {
   "cell_type": "markdown",
   "id": "9e153d29-d15c-428e-af6d-0738d476fa81",
   "metadata": {},
   "source": [
    "Una vez inicializado, agregamos a este agente la llave recién creada.<strong></strong>"
   ]
  },
  {
   "cell_type": "markdown",
   "id": "b4c12bed-cb2c-4893-a574-68b6e8b37a5f",
   "metadata": {},
   "source": [
    "<strong>ssh-add ~/.ssh/id_ed25519</strong> <br>\n",
    "Se le indica la ruta, por defecto es esta."
   ]
  },
  {
   "cell_type": "markdown",
   "id": "c8379324-2000-4acf-a3bd-f6f414fbf5f8",
   "metadata": {},
   "source": [
    "Por último conectamos la llave ssh con la cuenta de github. <br>\n",
    "Se copia la llave con los comandos ..."
   ]
  },
  {
   "cell_type": "markdown",
   "id": "87d425cc-bb3d-4fff-9e6c-16c76d8530e9",
   "metadata": {},
   "source": [
    "windows: <strong>clip < ~/.ssh/id_ed25519.pub</strong> <br>\n",
    "linux: <strong>cat ~/.ssh/id_ed25519.pub</strong>  \"Se abre y copiamos el codigo que nos de\""
   ]
  },
  {
   "cell_type": "markdown",
   "id": "1a7ea3ba-28bc-44ec-8622-c166089e5e18",
   "metadata": {},
   "source": [
    "Dentro de la plataforma Github -> Settings -> SSH keys -> New SSH key <br>\n",
    "Y en el recuadro de Key, pegamos la llave y le damos un nombre para identificarlo. <br>\n",
    "Para verificar que la conección es exitosa ..."
   ]
  },
  {
   "cell_type": "markdown",
   "id": "ae3e5329-ae4a-4f13-9eed-09203f446e2e",
   "metadata": {},
   "source": [
    "<strong>ssh -T git@github.com</strong> <br>\n",
    "Esto imprime un saludo de bienvenido con el nombre de usuario"
   ]
  },
  {
   "cell_type": "code",
   "execution_count": null,
   "id": "fc818dac-c5b1-4047-aa75-b2dd85d044c1",
   "metadata": {},
   "outputs": [],
   "source": []
  },
  {
   "cell_type": "markdown",
   "id": "f8dfcee6-54ac-439d-97b4-97038d261130",
   "metadata": {},
   "source": [
    "<h2><strong>Creando un Nuevo Repositorio (init)</strong>"
   ]
  },
  {
   "cell_type": "markdown",
   "id": "de800a71-2b36-4136-99c6-64f266b83736",
   "metadata": {},
   "source": [
    "Para inicializar un repositorio se usa el comando: <br>\n",
    "<strong>git init</strong><br>\n",
    "Este comando genera un directorio llamado .git que incluye la configuración e historia. <br>\n",
    "Antes de correr el comando, se debe crear la carpeta del proyecto y dentro de esta carpeta corremos el comando. <br>\n"
   ]
  },
  {
   "cell_type": "code",
   "execution_count": null,
   "id": "250bb434-d355-422a-8aee-5d3fb1607fd4",
   "metadata": {},
   "outputs": [],
   "source": []
  },
  {
   "cell_type": "markdown",
   "id": "ecc5476d-775f-400f-b194-5047bc0ee18c",
   "metadata": {},
   "source": [
    "<h2><strong>Agregar Cambios (add)"
   ]
  },
  {
   "cell_type": "markdown",
   "id": "dfdb237a-94b7-4511-98ae-8b718dc4fc38",
   "metadata": {},
   "source": [
    "Una de las funcionalidades de git es nover el código entre las ramas del repositorio. <br>\n",
    "El comando <strong>git add</strong> nos ayuda a mover los cambios entre el área de trabajo y el área de staging. Con esto preparamos los cambios para que hagan parte del siguiente commit. Se le debe especificar a git que cambios son los que queremos mover. <br>\n",
    "<br>\n",
    "Por ejemplo, para agregar un archivo es específico: <br>\n",
    "<strong>git add index.html</strong><br>\n",
    "Todos los cambios con una terminación específica:<br>\n",
    "<strong>git add *.js</strong><br>\n",
    "Para agregar cambios de archivos que sigan un patrón:<br>\n",
    "<strong>git add src/component-*</strong><br>\n",
    "Si nos encontramos en un subdirectorio y queremos agregar todos los cambios:<br>\n",
    "<strong>git add .</strong><br>\n",
    "Para todos los cambios en general de todo el repositorio: <br>\n",
    "<strong>git add -A</strong><br>\n",
    "Agrega todos los cambios sean modificaciones o eliminaciones excepto los archivos recién creados:<br>\n",
    "<strong>git add -u</strong><br>\n",
    "La operación inversa de add, movemos del área de stating al área de trabajo los cambios:<br>\n",
    "<strong>git reset</strong>\n"
   ]
  },
  {
   "cell_type": "markdown",
   "id": "87e65d3f-742c-4021-ba38-ede9192f9eb7",
   "metadata": {},
   "source": [
    "Con <em>git status</em> vemos en qué rama nos encontramos, si hay commits o archivos sin agregar al repositorio o si existe algún problema."
   ]
  },
  {
   "cell_type": "code",
   "execution_count": null,
   "id": "86165f26-a7fb-478f-8ceb-329c94f2ad00",
   "metadata": {},
   "outputs": [],
   "source": []
  },
  {
   "cell_type": "markdown",
   "id": "2f5b6ec6-a137-4829-ac97-d67d1028d7ed",
   "metadata": {},
   "source": [
    "<h2><strong>Guardar Cambios (commit)"
   ]
  },
  {
   "cell_type": "markdown",
   "id": "480f73da-2ba7-4c8b-b09a-d3bb134684bb",
   "metadata": {},
   "source": [
    "Un vez más. El historial de cambios de un repositorio se compone de commit, cada commit tiene un apuntador a un snapshoot del estado en el cual se encuentra el código en cierto punto del tiempo. Se puede ver, navegar o restaurar a cualquier punto de la historia.<br>\n",
    "Cada commit viene con información extra, quién hace el commit, cuando y una descripción de los cambios que contiene este commit.<br>\n",
    "Con el comando <strong>git commit</strong> movemos todos los cambios del área de staging al área del repositorio y crea una nueva \"foto\" del código con estos cambios.<br>\n",
    "Si mandamos el comando tal cual, nos abrirá un editor de código donde colocaremos la descripción de los cambios <br>\n",
    "Para verificar el área de repositorio usamos el comando <strong>git log</strong>. Con este comando se lista los commits del proyecto, con toda la información relevante. Autor, fecha y descripción.<br>\n",
    "Para facilitarnos la vida con el commit se usa el comando:<br>\n",
    "<strong>git commit -m \"descripción\"</strong><br>\n",
    "Si agregamos un <strong>-a</strong> antes del -m nos ahorramos el git add.<br>\n",
    "<br>\n",
    "Los commits deben ser pequeños y frecuentes. Cada commit debe tener una serie de cambios significativos, que sean todos relacionados a una funcionalidad en específico. Si se arregla un error del código, commit, si se crea un nuevo componente, commit... En general cuando se tenga una pieza completa del código, se hace commit.<br>\n"
   ]
  },
  {
   "cell_type": "markdown",
   "id": "051192e9-74ef-405d-9e06-73c0017a9560",
   "metadata": {},
   "source": [
    "Es muy importante el mensaje que viene con el commit. Porque al revisar el historial de commits, esos mensajes ayudan a entender que fue lo que sucedió en ese punto del tiempo, dotan de contexto y debería ser suficiente con leer el mensaje para que cualquiera entendiera el código.<br>\n",
    "Cada mensaje de commit debe:\n",
    "<img src=\"imagenes/Screenshot 2024-10-13 152446.png\"><br>\n"
   ]
  },
  {
   "cell_type": "code",
   "execution_count": null,
   "id": "8de55eef-cd1c-4060-9435-787b75d77c37",
   "metadata": {},
   "outputs": [],
   "source": []
  },
  {
   "cell_type": "markdown",
   "id": "38c22738-bc31-4010-bcbf-7f88a17d1192",
   "metadata": {},
   "source": [
    "<h2><strong>Sincronizar Cambios (push y pull) "
   ]
  },
  {
   "cell_type": "markdown",
   "id": "0c39ba26-6ebf-401b-9ceb-1fcfff3f29a7",
   "metadata": {},
   "source": [
    "Para sincronizar los cambios con nuestro repositorio remoto se usa <strong>push y pull</strong>. Con el comando <strong>git push</strong> enviamos los cambios del repositorio local al repositorio remoto.<br>\n",
    "Y con <strong>git pull</strong> hacemos lo opuesto, actualizamos nuestro repositorio local con los cambios que hayan en el repositorio remoto.<br>\n",
    "<br>\n",
    "Para ver los cambios en el repositorio remoto, debemos crear uno.<br>\n",
    "Dentro de la plataforma Github -> Click en el + -> New repository. <br>\n",
    "O nos vamos a nuestro perfil -> Repositories -> New<br>\n",
    "Nos pide el nombre del repositorio, una descripción del proyecto(opcional), la visibilidad ya sea público o privado, si se gusta agregar un readme y un .gitignore, así como las licencias.<br>\n",
    "Github nos da comandos para los dos casos posibles, si no existe el repositorio local o si exite.<br>\n"
   ]
  },
  {
   "cell_type": "code",
   "execution_count": null,
   "id": "ea04f259-5f55-412a-b4d1-865575151284",
   "metadata": {},
   "outputs": [],
   "source": []
  },
  {
   "cell_type": "markdown",
   "id": "8c12298f-31cf-41d7-9d14-e46bea7adea0",
   "metadata": {},
   "source": [
    "<h2><strong>Copiar un Repositorio (clone)"
   ]
  },
  {
   "cell_type": "markdown",
   "id": "0cf35046-f8bc-4652-b661-afac99e3386d",
   "metadata": {},
   "source": [
    "Cuando se va a trabajar con un repositorio ya existente o quieres copiar el repositorio remoto a una computadora, usamos el comando:<br>\n",
    "<strong>git clone \"url\"</strong><br>\n",
    "Al ejecutarlo, git nos da una copia completa del repositorio, incluyendo el historial, ramas, archivos, en general cualquier elemento del repositorio.<br>\n",
    "También crea una conexión automática entre los repositorios local y remoto. Lo que permite sincronizarlos con push y pull.<br> "
   ]
  },
  {
   "cell_type": "code",
   "execution_count": null,
   "id": "6b593f1c-eb86-46cd-8197-82f85cda788e",
   "metadata": {},
   "outputs": [],
   "source": []
  },
  {
   "cell_type": "markdown",
   "id": "cd02b858-4439-4858-a567-207c806e3281",
   "metadata": {},
   "source": [
    "<h2><strong>Qué son las Ramas "
   ]
  },
  {
   "cell_type": "markdown",
   "id": "0012b21c-c1e1-47da-8a40-cfbb5436accd",
   "metadata": {},
   "source": [
    "Cuando creamos un repositorio, git crea la rama main o principal, antes llamada Master; para las versiones experimentales de lo que puede ser el futuro del proyecto, podemos crear una rama de desarrollo o development. Todo lo que se haga en esta rama no afecta a la principal y cuando se acabe y se concrete la idea, se puede fusionar la rama de develop con la rama main.<br>\n",
    "<br>\n",
    "En el caso, por ejemplo, que se trabaje en una página web, y se tenga la idea de agregar una ruta para agregar los contactos, entonces en git creamos la rama para desarrollar esta idea, y cuando ya esté lista, la fusionamos con la rama principal.<br>\n",
    "<br>\n",
    "<img src=\"imagenes/Screenshot 2024-10-13 183751.png\">\n"
   ]
  },
  {
   "cell_type": "code",
   "execution_count": null,
   "id": "1d77b111-748b-40db-aea3-43902111d321",
   "metadata": {},
   "outputs": [],
   "source": []
  },
  {
   "cell_type": "markdown",
   "id": "f785b1a4-06e3-42e8-ac04-fb4ff8e3ff9f",
   "metadata": {},
   "source": [
    "<h2><strong>Crear Ramas (Switch)"
   ]
  },
  {
   "cell_type": "markdown",
   "id": "06c91ee2-7887-4a98-bc3d-a57ae60faaa3",
   "metadata": {},
   "source": [
    "Con el comando ...<br>\n",
    "<strong>git switch -c Nombredelarama </strong><br>\n",
    "Con esto, se crea un nuevo flujo de trabajo a partir de la rama en la nos encontramos actualmente. Esta nueva rama contiene todos los cambios que tiene la rama \"padre\", hasta ese punto del tiempo.<br>\n",
    "Con <strong>git branch</strong> podemos ver todas las ramas que existen hasta ese momento.<br>\n",
    "Con <strong>git branch -D nombredelarama</strong> eliminamos la rama, no podemos eliminar una rama si estamos posicionados sobre ella.<br>\n",
    "Con <strong>git switch main</strong> cambiamos a la rama principal, cambiamos main por el nombre de otra rama y saltamos a esa.<br>\n",
    "<br>\n",
    "Cada rama tiene un nombre muy descriptivo, también el nombre debe permitir identificar las tareas asociadas, también llamadas tickets o issues, por último debe seguir el estándar definido por el equipo de trabajo.<br>\n",
    "Ejemplo de ello:<br>\n",
    "<img src=\"imagenes/Screenshot 2024-10-13 184822.png\"><br>\n",
    "<br>\n",
    "Como buena práctica se crea una nueva rama cada que vayamos a realizar un cambio en el código. Como lo es agregar una nueva característica, arreglar errores, realizar pruebas o experimentos, realizar un cambio en la estructura del proyecto, eliminar o modificar características o, en el entorno laboral, por cada tarea o ticket que se nos asigna."
   ]
  },
  {
   "cell_type": "code",
   "execution_count": null,
   "id": "5cafba5a-47a6-47e0-bb33-a8a9d106657c",
   "metadata": {},
   "outputs": [],
   "source": []
  },
  {
   "cell_type": "markdown",
   "id": "4de54a43-5f4b-4e08-ac40-9454300cbda7",
   "metadata": {},
   "source": [
    "<h2><strong>Navegar entre Ramas"
   ]
  },
  {
   "cell_type": "markdown",
   "id": "58bb571d-f53a-4e8e-82ce-4ccc7fbb4b8e",
   "metadata": {},
   "source": [
    "Con el comando <strong>git switch nombredelarama</strong> cambiamos a otra rama.<br>\n"
   ]
  },
  {
   "cell_type": "code",
   "execution_count": null,
   "id": "5f00f1a7-c979-4932-984a-c145e6663c8e",
   "metadata": {},
   "outputs": [],
   "source": []
  },
  {
   "cell_type": "markdown",
   "id": "6809eb44-4754-45b6-b81a-c7865de26604",
   "metadata": {},
   "source": [
    "<h2><strong>Unir Ramas (Merge)"
   ]
  },
  {
   "cell_type": "markdown",
   "id": "b99c1a38-a2df-4981-a7aa-ef5f58fd5e94",
   "metadata": {},
   "source": [
    "Cuando los cambios ya están listos para ser fusionados con el flujo de trabajo principal, entra en escena el comando...<br>\n",
    "<strong>git merge nombredelarama</strong><br>\n",
    "Para fusionar correctamente las ramas, primero nos posicionamos en la rama donde van a quedar nuestros cambios. Y se realiza un commit con los cambios.<br>"
   ]
  },
  {
   "cell_type": "code",
   "execution_count": null,
   "id": "8ace57b8-46fa-4c3b-9b9c-ff1c33a67920",
   "metadata": {},
   "outputs": [],
   "source": []
  },
  {
   "cell_type": "markdown",
   "id": "9e851bfd-7c5a-4c57-be0d-d1a8b6156e0b",
   "metadata": {},
   "source": [
    "<h2><strong>Estrategias de merge</strong>"
   ]
  },
  {
   "cell_type": "markdown",
   "id": "7d561c43-dd42-455f-b6cd-c16dfcd73ece",
   "metadata": {},
   "source": [
    "Existen 3 maneras más usadas de usar merge.<br>\n",
    "<strong>1. Fast-forward merge</strong> Esta es la predeterminada por git y ocurre cuando la rama que contiene los nuevos cambios tiene actualizada la última versión de la rama padre. Lo que hace git es avanzar el apuntador al último commit de la rama principal y ahí fusiona la rama que contiene los cambios.<br>\n",
    "<img src=\"imagenes/Screenshot 2024-10-13 190700.png\"><br>\n",
    "<br>\n",
    "<strong>2. Merge commit</strong> Aquí se genera un nuevo commit cada que ocurre un merge y este commit contiene los cambios que se están uniendo en el merge. Es la estrategia por defecto cuando la rama que contiene los cambios no está actualizada con la última versión de la rama padre.<br>\n",
    "<img src=\"imagenes/Screenshot 2024-10-13 191210.png\"><br>\n",
    "<br>\n",
    "<strong>3. Squash merge</strong> Esta estrategia es como una combinación entre las dos anteriores. Esta genera un nuevo commit que contiene todos los cambios de la rama que vamoa a fusionar y, probablemente, el apuntador de la rama padre se mueva a ese commit, obteniendo un historial simple y consciso. Para hacerlo se debe colocar la bandera <strong>--squash</strong> después del comando git merge.<br>\n",
    "<img src=\"imagenes/Screenshot 2024-10-13 191234.png\"><br>\n",
    "<br>\n",
    "Git tiene muchisimas más estrategias."
   ]
  },
  {
   "cell_type": "code",
   "execution_count": null,
   "id": "d2dcf1d9-61a6-400f-bdc0-c53dceaa236b",
   "metadata": {},
   "outputs": [],
   "source": []
  },
  {
   "cell_type": "markdown",
   "id": "e99ac159-d238-4ac0-a39a-2c2d21cab7c6",
   "metadata": {},
   "source": [
    "<h2><strong>Comandos utiles</strong>"
   ]
  },
  {
   "cell_type": "markdown",
   "id": "7f0baf05-f236-46ca-8221-d99b64591fd4",
   "metadata": {},
   "source": [
    "<strong>git status</strong><br>\n",
    "Sirve para conocer el estatus de nuestra área de trabajo y el área del repositorio. Dando información sobre en qué rama nos encontramos, qué archivos están en el área de trabajo y cuales en el área de staging. También nos da consejos o ayudas para el siguiente comando, dependiendo de qué es lo que queramos hacer.<br>\n",
    "Con la bandera <strong>-s</strong>, vemos una version reducida, donde solo vemos el estatus de los achivos, viendo en qué área se encuentran.<br>\n",
    "\n",
    "<strong>git config color.status.branch black</strong><br>\n",
    "Comando para cambiar el color de la rama cuando se nos presente, por ejemplo al hacer git status. Si cambiamos branch por added, modificamos el color de los archivos que se encuentran en el área de staging. Para los archivos sin seguimiento se cambia branch por untracked. Para modificar el aspecto, por ejemplo que sea en negrita se coloca entre comillas \"bold\"<br>\n",
    "Ejemplo: <strong>git config color.status.untracked \"yellow bold\"</strong><br>\n",
    "Git acepta colores: rojo, blanco, negro, azul, verde, amarillo, magenta y cian o colores hexadecimales. Pero también depende de qué colores acepte la terminal. \n"
   ]
  },
  {
   "cell_type": "markdown",
   "id": "524b6277-ed23-4de7-8bd1-f7223a951908",
   "metadata": {},
   "source": [
    "<strong>git log</strong><br>\n",
    "Se ejecuta para ver el área del repositorio, vemos los commits realizados hasta el momento. vemos la palabra commit seguido de un SHA1 es un hash del commit, un identificador único para cada commit, seguido de la rama donde se originó ese commit y si fue un merge especifica la rama principal y la rama donde vinieron esos cambios. Después viene la información del autor del commit, la fecha y el mensaje.<br>\n",
    "Con la bandera <strong>--oneline</strong> vemos una versión resumida.<br>\n",
    "Con <strong>-n #</strong> Delimitamos cuantos commits queremos ver, especificando con un número<br>\n",
    "Con <strong>--format=?</strong> Podemos seleccionar entre short, full o medium. Para la información que se nos muestra de los commits.<br>\n",
    "\n"
   ]
  },
  {
   "cell_type": "markdown",
   "id": "3bc24d1a-352a-453d-a76d-b35cac79a809",
   "metadata": {},
   "source": [
    "<strong>git dif</strong><br>\n",
    "Permite visualizar las diferencias entre dos archivos, commits o ramas. La salida por defecto es la difencia entre el área de trabajo y el área del repositorio.<br>\n",
    "En la primer linea de la respuesta vemos los archivos que git está comparando la versión a y la versión b de un mismo archivo, diferentes áreas.<br>\n",
    "La segunda linea es para los identificadores internos de los objetos que git compara.<br>\n",
    "La 3ra y 4ta muestra los identificadores para cada versión, la versión a es la del repositorio, la identificamos porque al principio colocan (---) y la versión b es del área de trabajo y se denota con unos (+++). La 5ta linea es un resumen de los cambios. el primer simbolo denota la version, el primer numero menciona en qué lineas hubo el cambio, el siguiente numero es cuantas líneas de código son diferentes. Vemos una especie de antes y después.<br>\n",
    "Ejemplo: @@ -8,5 +8,6 @@ Esto diría que en la versión a, a partir de la línea 8 había 5 líneas y en la versión b a partir de la línea 8 hay 6 líneas.<br>\n",
    "Después se muestra un contexto del código que cambío, específicamente 3 líneas de código."
   ]
  },
  {
   "cell_type": "markdown",
   "id": "59b96cfd-717b-493d-ba6c-6947edfc0422",
   "metadata": {},
   "source": [
    "<strong>git stash</strong><br>\n",
    "Git nos permite almacenar trozos de código sin necesidad de hacer commits, apilandolos aparte de nuestra área de trabajo y dejándolos disponibles para cualquier momento, a esto se le conoce como hacer stash del código. Y sería una pseudo-área de git donde almacenamos cambios sin que sean parte del historial de versiones<br>\n",
    "Es como un save de los progresos, cuando ya esté listo entonces ya va el add,commit,push, pero si se necesita atender otra tarea y debes poner en pausa el código que estabas trabajando, se puede hacer un stash para que se guarde momentaneamente.<br>\n",
    "Al hacer git stash se manda todo lo que haya en el área de trabajo al stash, inclusive se puede hacer varias veces consecutivas, se van agregando estos cambios como se fuera una pila, el último cambio en agregar es el primero en salir.<br>\n",
    "Ya en la práctica, al ejecutar git stash al código que vemos en pantalla se modifica a la última modificación del código, su versión anterior antes de las modificaciones.<br>\n",
    "Para verificar cuandos cambios están en el stash hacemos: <strong>git stash list</strong><br>\n",
    "Y con <strong>git stash pop</strong> Se sale del stash más reciente para incorporarse al área de trabajo.<br>\n",
    "Con <strong>git stash save \"nombre\"</strong> le dotamos de un nombre a ese stash para identificarlo más facilmente.<br>\n",
    "Por defecto, se saca el stash más reciente hecho, pero es posible sacar cualquiera, solo especificamos la posición del stash que queremos, para ver cuales existen, hacemos un git stash list y luego:  <strong>git stash pop stash@{numero}</strong><br>\n",
    "No nos va a apilar archivos recién creados, deben ser trackeados por github para que se les incluya en el stash. Para sí incluirlos en el stash, se lo debemos especificar a git. Con la bandera <strong>--include-untracked</strong>"
   ]
  },
  {
   "cell_type": "markdown",
   "id": "cbb8e3a2-ff06-40e5-839c-8a99d58219ab",
   "metadata": {},
   "source": [
    "<strong>git show</strong><br>\n",
    "Nos permite ver la información detallada de un commit en específico. Si lo mandamos sin especificar el commit lo que vemos es el último commit. git show es como el hijo incestuoso entre un log y un dif, ya que sale la información de ambos.<br>\n",
    "Para ver un commit en específico debemos tener el sha1 del commit o identificador, haciendo un log podemos ver los identificadores de cada commit.<br>\n"
   ]
  },
  {
   "cell_type": "code",
   "execution_count": null,
   "id": "d600b066-eb59-4344-a591-b595cc207dc7",
   "metadata": {},
   "outputs": [],
   "source": []
  },
  {
   "cell_type": "markdown",
   "id": "f076caca-19a7-4695-a3e2-901f98a6f0b2",
   "metadata": {},
   "source": [
    "<h2><strong> Git ignore"
   ]
  },
  {
   "cell_type": "markdown",
   "id": "d3fec77a-694c-49f5-a034-440439e080b9",
   "metadata": {},
   "source": [
    "Hay archivos que no nos interesa (o conviene) mantener en el historial de versiones. Ya que contienen información sensible, inecesaria o poco relevante. Como por ejemplo. archivos .env, archivos compilados o de cacahé, librerías y modulos que utilizamos en nuestro proyecto.<br>\n",
    "Git sabe de esto y puede crear un archivo de nombre <strong>.gitignore</strong> donde podemos listar todos los archivos no querramos en el repostiorio, también acepta patrones de archivos.<br>\n",
    "<img src=\"imagenes/Screenshot 2024-10-14 112453.png\"><br>\n",
    "Si queremos que busque dentro de una carpeta se especificaria algo como: carpeta1/**.html Con esto se busca de forma recursiva en sus carpetas dentro de carpeta1.<br>\n",
    "El archivo gitignore si debe estar en el repositorio.<br>"
   ]
  },
  {
   "cell_type": "code",
   "execution_count": null,
   "id": "f4b78af6-69ba-4f47-9136-5402cfb4eefd",
   "metadata": {},
   "outputs": [],
   "source": []
  },
  {
   "cell_type": "markdown",
   "id": "744c3d84-5ae5-43ce-b181-9a05c7c261fe",
   "metadata": {},
   "source": [
    "<h2><strong>Conflictos en Git"
   ]
  },
  {
   "cell_type": "markdown",
   "id": "91c0a42b-dc92-4361-b98d-af7b1b7d5b1e",
   "metadata": {},
   "source": [
    "Cuando unimos flujos de trabajo diferentes, git automáticamente genera la nueva versión del archivo, uniendo los cambios que hay en ambos flujos de trabajo. Pero en alguinos casos no lo puede hacer de manera automática. Esto genera <strong>Merge conflicts</strong>.<br>\n",
    "Ocurren cuando 2 o más personas modifican la misma línea de código en el mismo archivo. Git intenta hacer merge y ocurre un problema, no sabe cual cambio mantener, entonces nos notifica para nosotros decidir cuál cambio de queda. Git saltará con el error al intentar hacer merge y nos denotará las líneas de codigo que están en conflicto."
   ]
  },
  {
   "cell_type": "markdown",
   "id": "d6ab4ed1-e242-4b36-a538-f4ec0d396e04",
   "metadata": {},
   "source": [
    "Para resolverlos, hay que ser muy cuidadoso con los cambios a realizar. Porque podemos perder cambios importantes del proyecto. <br>\n",
    "<strong>1.</strong>La primer solución sería eliminar las lineas de código que no se necesitan. Entonces manualmente borramos las líneas de código que alguna de las ramas. Después hacemos un add de los archivos en conflicto y un commit, en este punto git hace un merge-commit indicando que en este punto se unieron las ramas. <br>\n",
    "<strong>2.</strong>La segunda estrategia para afrontar los conflictos de merge. Es el comando <strong>git checkout </strong>. Antes de usarlo se debe tener en claro cuales cambios queremos conservar, o bien los que están en la rama padre o en la rama hija, y se especifica la rama, para mantener esos cambios. <br>\n",
    "Para especificar esto se ocupan las banderas <strong> --ours</strong> o bien <strong> --theirs</strong>. Con --ours se conservan los cambios de la rama padre y con --theirs se consevan los cambios de la rama hija. Ejemplo de comando sería:<br>\n",
    "<strong>git checkout --theirs index.html</strong> Conservando los cambios de la rama hija en el archivo index.html<br>\n",
    "Lo siguiente es hacer un add y commit.<br>\n",
    "<strong>3.</strong> La tercer solución es ayudandonos del editor de texto, ya que muchos editores de texto ya vienen con features que nos ayudan a resolver estos problemas más claramente. VSC muestra mensajes \"Current change\" para los cambios del padre y \"Incoming change\" para los cambios que se intentan mezclar. Esto con diferentes colores, incluso al pasar el cursor sobre alguno de los cambios nos da opciones, como :<em>   accept current change | accept incoming change | both | compare changes</em><br>\n",
    "Lo siguiente es hacer un add y commit.<br>"
   ]
  },
  {
   "cell_type": "markdown",
   "id": "8adbe106-5bdf-40eb-97f1-63f4ce7161f2",
   "metadata": {},
   "source": [
    "<h3><strong> Buenas practicas:</strong></h3><br>\n",
    "Lo ideal es prevenir estos conflictos. Como recomendaciones tenemos:<br>\n",
    "<img src=\"imagenes/Screenshot 2024-10-14 124030.png\"><br>"
   ]
  },
  {
   "cell_type": "code",
   "execution_count": null,
   "id": "71e28e4f-7243-4c33-8f8f-9d2e577cbd1f",
   "metadata": {},
   "outputs": [],
   "source": []
  },
  {
   "cell_type": "markdown",
   "id": "db1a349b-06a9-4088-8cad-c07f83dad2b1",
   "metadata": {},
   "source": [
    "<h2><strong>Deshaciendo cambios"
   ]
  },
  {
   "cell_type": "markdown",
   "id": "142ef135-05b9-445a-becf-f58255511652",
   "metadata": {},
   "source": [
    "<h3><strong>Checkout"
   ]
  },
  {
   "cell_type": "markdown",
   "id": "352c6eaa-ba2d-45d5-9f61-5f4c764f9061",
   "metadata": {},
   "source": [
    "Con <strong>git checkout</strong> podemos navegar por la historia de git, entre ramas, commits o archivos.<br>\n",
    "Una de las funciones que tiene es deshacer los cambios que se tienen en el área de trabajo.<br>\n",
    "Al hacer <strong>git checkout archivo.py</strong> los cambios no agregamos al área de stagging se perderán para siempre.<br>\n",
    "Con <strong>git checkout .</strong> se descartan todos los cambios del área de trabajo en todo el proyecto.<br>"
   ]
  },
  {
   "cell_type": "markdown",
   "id": "451a5760-9747-4a36-af3b-d9a34a98aa77",
   "metadata": {},
   "source": [
    "Con <strong>git revert hashdelcommit</strong> en lugar de modificar la historia, nos genera un nuevo commit que revierte los cambios que queremos deshacer del commit anterior.<br>\n",
    "Al hacer esto se guardan los dos commits en el historial, el primero, que tiene cambios que ya no queremos y el segundo que contiene los cambios ya revertidos. Si hacemos un log se verán los commits."
   ]
  },
  {
   "cell_type": "markdown",
   "id": "74259e05-77c1-47a7-bc08-9f4f32e5b599",
   "metadata": {},
   "source": [
    "Con <strong>git reset</strong> podemos mover el apuntador del estado actual de las versiones a un commit anterior, puede ser util si se desea deshacer 1 o más commits o volver a un estado anterior del repositorio.<br>\n",
    "El comando git reset tiene 3 opciones principales, las cuales determinan que es lo que sucede con los cambios realizados en los archivos del repositorio y en el índice de git :<br>\n",
    "<strong>--soft</strong> Deshace el commit, manteniendo los cambios en el área de staging, se pueden volver a confirmar haciendo un commit.<br>\n",
    "<strong>--mixed</strong> Opción que se ejecuta por defecto por git. Igualmente deshacer los cambios i.e el commit, pero mantiene los cambios en el área de trabajo.<br>\n",
    "<strong>--hard</strong> Es la más peligrosa ya que deshace el commit y los cambios, elimina los cambios totalmente, es irrecuperable al usarlo.<br>\n",
    "A estas tres banderas le debemos indicar el hash del commit."
   ]
  },
  {
   "cell_type": "code",
   "execution_count": null,
   "id": "6a0584db-4a6f-4fbc-9790-0e6ec07b7572",
   "metadata": {},
   "outputs": [],
   "source": []
  },
  {
   "cell_type": "markdown",
   "id": "9724df73-57a1-4438-b8b0-5026805b8b42",
   "metadata": {},
   "source": [
    "<h2><strong> Manipulando la historia"
   ]
  },
  {
   "cell_type": "markdown",
   "id": "259f9688-06df-415a-9c19-91c55bd2caca",
   "metadata": {},
   "source": [
    "Los siguientes comandos sirven para manipular la historia de git, modifican la secuencia de cambios en el historial de git, incluyendo el contenido, referencias, hasta la metadata, también para deshacer cambios.<br>\n",
    "Estos comandos <strong> solo se usan en ramas que no sean compartidas con otras personas</strong> ya que puede haber errores al hacer merge.<br>"
   ]
  },
  {
   "cell_type": "markdown",
   "id": "da563d20-4176-4f75-a3a8-987adf07d2a2",
   "metadata": {},
   "source": [
    "<h3><strong>Rebase"
   ]
  },
  {
   "cell_type": "markdown",
   "id": "df379769-fb36-4f49-91b0-d4174210123c",
   "metadata": {},
   "source": [
    "Con <strong>git rebase nombredelarama</strong> cambiamos el origen de la rama:<br>\n",
    "<img src = \"imagenes/Screenshot 2024-10-14 141128.png\"><br>\n",
    "Este comando se usa para actualizar los cambios de la rama a la última versión de la rama padre y así poder trabajar con la versión de código más reciente.<br>\n",
    "Otra función de rebase es unir, descartar, borrar commits. Esto con la bandera <strong>-i nombredelarama</strong>, nos permite decidir commit por commit que hacer con ellos. Es muy util si hay cambios inecesarios que es mejor borrarlos o varios commits que es mejor unirlos en 1 solo, prácticamente se edita y embellece la historia.<br>\n"
   ]
  },
  {
   "cell_type": "markdown",
   "id": "8d68bd7e-9d8b-4aac-93e7-8bedf7cdd555",
   "metadata": {},
   "source": [
    "<h3><strong>Amend</strong>"
   ]
  },
  {
   "cell_type": "markdown",
   "id": "bffe1161-45e6-4057-a47c-b76f1f525e78",
   "metadata": {},
   "source": [
    "Con <strong>git commit --amend</strong> pordemos editar el último commit, específicamente el mensaje. AL hacerlo se abre una ventana para editar el commit.<br>\n",
    "Si queremos agregar otras lineas de codigo a un mismo comit: editamos el código, hacemos un add y un commit amend, editamos el mensaje y listo."
   ]
  },
  {
   "cell_type": "markdown",
   "id": "ca28189c-afbb-47f7-84a6-3a10aa2fc483",
   "metadata": {},
   "source": [
    "<h3><strong>Cherry-pick</strong>"
   ]
  },
  {
   "attachments": {},
   "cell_type": "markdown",
   "id": "f470b957-3d02-4417-8e4b-5dc92fdf0974",
   "metadata": {},
   "source": [
    "Con  <strong>git cherry-pick</strong> copiamos y pegamos cambios de una rama a otra. Identificamos el hash del commit que queremos copiar, nos movemos a la rama donde queremos pegar y ejecutamos <strong>git cherry-pick hashdelcommit</strong><br>\n",
    "<img src=\"imagenes/Screenshot 2024-10-14 141128.png\"><br>\n",
    "Siempre se va a agradecer y premiar la reutilización de código.<br>\n",
    "Si por error hacemos commits en una rama donde no iban esos cambios, podemos usar este comando para llevarnos ese commit y posteriormente borrarlo en la rama donde no iba.<br>\n"
   ]
  },
  {
   "cell_type": "code",
   "execution_count": null,
   "id": "9d667943-fe9b-4e0b-9a51-5d8f1416a194",
   "metadata": {},
   "outputs": [],
   "source": []
  },
  {
   "cell_type": "markdown",
   "id": "f2efd047-3d1c-4ac9-876d-799b9ac8e116",
   "metadata": {},
   "source": [
    "<h2><strong>Git workflow"
   ]
  },
  {
   "cell_type": "markdown",
   "id": "d2825603-d7ed-47c7-9a41-b1fb43c09ec2",
   "metadata": {},
   "source": [
    "Los workflow de git son lineamientos y estándares que se usan en el proyecto, que permiten tener una historia consistente y mejora la productividad de los miembros del equipo.<br>\n",
    "Un workflow define el nombramiento de ramas, commits, la creación de ramas o el merge de las mismas. Particularmente se define si se va a ausar camelCase, snake_case o agregar el id de la tarea que se está ejecutando, cada cuanto se ejecuta un commit o se crea una rama y bajo qué condiciones se puede hacer un merge.<br>\n",
    "No existen lineamientos únicos, depende del proyecto, de las personas que se encuentren involucradas, el tamaño del equipo y de las incidencias que puedan ocurrir.<br>\n",
    "Existen para mantener la consistencia en el proyecto. Se busca tener una historia de git entendible, fácil de navegar, permitiendo solucionar errores de una manera más fácil.<br>"
   ]
  },
  {
   "cell_type": "markdown",
   "id": "ec854534-a6ac-4368-b939-6b8eb71bb67e",
   "metadata": {},
   "source": [
    "<h3><strong> Feature based"
   ]
  },
  {
   "cell_type": "markdown",
   "id": "9d05ecf3-37bb-4479-967e-b461bffb1efa",
   "metadata": {},
   "source": [
    "Es un workflow donde cada desarrollador crea una nueva rama para cada cambio que se introduce en el código y una vez que termina, se envía un <strong>pull request</strong> o solicitud de cambios con el código que quiere añadir. En github se pueden ver las solicitudes de cambios. Antes de hacer un merge con la rama principal, el código es revisado y verificado por los demas compañeros del equipo.<br>\n",
    "<img src=\"imagenes/Screenshot 2024-10-14 145900.png\"><br>\n",
    "De esta manera se mejora la calidad del código, fomenta la colaboración en equipo, aumenta el conocimiento del equipo y ahorra tiempo y recursos.<br>"
   ]
  },
  {
   "cell_type": "markdown",
   "id": "a6838f3b-5707-4ba2-b889-c1c122d67e62",
   "metadata": {},
   "source": [
    "<h3><strong> GitFlow"
   ]
  },
  {
   "cell_type": "markdown",
   "id": "a8155c60-2718-44a7-9886-d5f6a88006db",
   "metadata": {},
   "source": [
    "Es la metodología más usada para organizar los proyectos haciendo uso de git. Se usan en la gran mayoría de empresas, es adaptable a diferentes factores.<br>\n",
    "Gitflow usa dos ramas principales, <strong>main</strong> y <strong>develop</strong><br>\n",
    "Main es la rama principal y solo contiene la versión estable del código. La rama develop es la rama de integración y tiene la última versión del código en desarrollo.<br>\n",
    "Pero no se limita a esas ramas, tiene ramas secundarias, de nombre <strong>feature-branches</strong> las cuales desarrollan nuevas características. Se crean a partir de la rama develop y se fusionan con ella, cuando la función esté hecha.<br>\n",
    "También existen las <strong>release-branches</strong>, se utilizan pra preparar una versión del código para su lanzamiento, se crean a partir de la rama develop y se fusionan con la rama main. Esto va a pasar cuando queramos lanzar una nueva versión de nuestro proyecto.<br>\n",
    "Por último, tenemos las <strong>hotfix-branches</strong> en estas se corrigen errores críticos en la rama main, se crean a partir de la rama main y se fusionan en la rama main y develop cuando ya se solucionaron los problemas.<br>\n",
    "Con estas ramas estamos partiendo los problemas en pequeñas partes a resolver, pudiendo identificar cada uno de nuestros pasos para tener un mayor control."
   ]
  },
  {
   "cell_type": "markdown",
   "id": "143dd2f2-bcd3-4310-a7e6-8ee4a4ef6e94",
   "metadata": {},
   "source": [
    "<h3><strong>Trunk based</strong>"
   ]
  },
  {
   "cell_type": "markdown",
   "id": "733e2ba5-7dfb-4f28-8cb3-9a7bbdc8cd85",
   "metadata": {},
   "source": [
    "El workflow en tendencia, como gitflow tiene \"tantas\" ramas, se demora en llegar a main, esto no permite la iteación continua que proponen las estrategias de <strong>CI y CD</strong>.<br>\n",
    "El trunk based workflow se centra en la utilización de una única rama principal para el desarrollo del proyecto, en este modelo todos los desarrolladores trabajan en la misma rama y no necesariamente se crean ramas para features. Y cuando existen ramas secundarias son de corta vida, cuando pasan los test automatizados inmediatamente son integradas con la rama principal.<br>\n",
    "Se centra en la iteración e intrega continua, se requiere de un gran trabajo en equipo para garantizar que los cambios se integren sin problema alguno.<br>\n",
    "Dentro de sus ventajas encontramos su gran simplicidad, entrega rápida, menor complejidad y mayor visibilidad.<br>\n",
    "Si los desarrolladores tienen bastante experiencia se recomienda muchisimo. Ya que tiene muchas libertades para agregar cambios, cambios que pueden ser riesgosos en manos menos experimentadas. Y también se recomienda para proyectos recién iniciados. "
   ]
  },
  {
   "cell_type": "markdown",
   "id": "8af722ee-38f2-4b6e-bb17-95d6a7351f3f",
   "metadata": {},
   "source": [
    "<h1><strong> Fin."
   ]
  },
  {
   "cell_type": "markdown",
   "id": "08143751-b379-4fb2-9c37-a2923a36cfd6",
   "metadata": {},
   "source": []
  }
 ],
 "metadata": {
  "kernelspec": {
   "display_name": "Python 3 (ipykernel)",
   "language": "python",
   "name": "python3"
  },
  "language_info": {
   "codemirror_mode": {
    "name": "ipython",
    "version": 3
   },
   "file_extension": ".py",
   "mimetype": "text/x-python",
   "name": "python",
   "nbconvert_exporter": "python",
   "pygments_lexer": "ipython3",
   "version": "3.10.12"
  }
 },
 "nbformat": 4,
 "nbformat_minor": 5
}
